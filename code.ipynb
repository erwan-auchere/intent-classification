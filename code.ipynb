{
  "cells": [
    {
      "cell_type": "code",
      "execution_count": 55,
      "metadata": {
        "tags": [],
        "colab": {
          "base_uri": "https://localhost:8080/"
        },
        "id": "yg_UUy9dWzsw",
        "outputId": "bea83701-a697-4317-dbd0-91df17db00ca"
      },
      "outputs": [
        {
          "output_type": "stream",
          "name": "stdout",
          "text": [
            "Looking in indexes: https://pypi.org/simple, https://us-python.pkg.dev/colab-wheels/public/simple/\n",
            "Requirement already satisfied: torch==1.13.1 in /usr/local/lib/python3.9/dist-packages (1.13.1+cu116)\n",
            "Requirement already satisfied: torchtext in /usr/local/lib/python3.9/dist-packages (0.14.1)\n",
            "Requirement already satisfied: torchinfo in /usr/local/lib/python3.9/dist-packages (1.7.2)\n",
            "Requirement already satisfied: datasets in /usr/local/lib/python3.9/dist-packages (2.10.1)\n",
            "Requirement already satisfied: matplotlib in /usr/local/lib/python3.9/dist-packages (3.5.3)\n",
            "Requirement already satisfied: typing-extensions in /usr/local/lib/python3.9/dist-packages (from torch==1.13.1) (4.5.0)\n",
            "Requirement already satisfied: numpy in /usr/local/lib/python3.9/dist-packages (from torchtext) (1.22.4)\n",
            "Requirement already satisfied: tqdm in /usr/local/lib/python3.9/dist-packages (from torchtext) (4.65.0)\n",
            "Requirement already satisfied: requests in /usr/local/lib/python3.9/dist-packages (from torchtext) (2.25.1)\n",
            "Requirement already satisfied: packaging in /usr/local/lib/python3.9/dist-packages (from datasets) (23.0)\n",
            "Requirement already satisfied: multiprocess in /usr/local/lib/python3.9/dist-packages (from datasets) (0.70.14)\n",
            "Requirement already satisfied: pyyaml>=5.1 in /usr/local/lib/python3.9/dist-packages (from datasets) (6.0)\n",
            "Requirement already satisfied: dill<0.3.7,>=0.3.0 in /usr/local/lib/python3.9/dist-packages (from datasets) (0.3.6)\n",
            "Requirement already satisfied: fsspec[http]>=2021.11.1 in /usr/local/lib/python3.9/dist-packages (from datasets) (2023.3.0)\n",
            "Requirement already satisfied: responses<0.19 in /usr/local/lib/python3.9/dist-packages (from datasets) (0.18.0)\n",
            "Requirement already satisfied: pyarrow>=6.0.0 in /usr/local/lib/python3.9/dist-packages (from datasets) (9.0.0)\n",
            "Requirement already satisfied: pandas in /usr/local/lib/python3.9/dist-packages (from datasets) (1.3.5)\n",
            "Requirement already satisfied: xxhash in /usr/local/lib/python3.9/dist-packages (from datasets) (3.2.0)\n",
            "Requirement already satisfied: huggingface-hub<1.0.0,>=0.2.0 in /usr/local/lib/python3.9/dist-packages (from datasets) (0.13.1)\n",
            "Requirement already satisfied: aiohttp in /usr/local/lib/python3.9/dist-packages (from datasets) (3.8.4)\n",
            "Requirement already satisfied: kiwisolver>=1.0.1 in /usr/local/lib/python3.9/dist-packages (from matplotlib) (1.4.4)\n",
            "Requirement already satisfied: fonttools>=4.22.0 in /usr/local/lib/python3.9/dist-packages (from matplotlib) (4.39.0)\n",
            "Requirement already satisfied: pyparsing>=2.2.1 in /usr/local/lib/python3.9/dist-packages (from matplotlib) (3.0.9)\n",
            "Requirement already satisfied: cycler>=0.10 in /usr/local/lib/python3.9/dist-packages (from matplotlib) (0.11.0)\n",
            "Requirement already satisfied: pillow>=6.2.0 in /usr/local/lib/python3.9/dist-packages (from matplotlib) (8.4.0)\n",
            "Requirement already satisfied: python-dateutil>=2.7 in /usr/local/lib/python3.9/dist-packages (from matplotlib) (2.8.2)\n",
            "Requirement already satisfied: yarl<2.0,>=1.0 in /usr/local/lib/python3.9/dist-packages (from aiohttp->datasets) (1.8.2)\n",
            "Requirement already satisfied: async-timeout<5.0,>=4.0.0a3 in /usr/local/lib/python3.9/dist-packages (from aiohttp->datasets) (4.0.2)\n",
            "Requirement already satisfied: charset-normalizer<4.0,>=2.0 in /usr/local/lib/python3.9/dist-packages (from aiohttp->datasets) (3.1.0)\n",
            "Requirement already satisfied: multidict<7.0,>=4.5 in /usr/local/lib/python3.9/dist-packages (from aiohttp->datasets) (6.0.4)\n",
            "Requirement already satisfied: attrs>=17.3.0 in /usr/local/lib/python3.9/dist-packages (from aiohttp->datasets) (22.2.0)\n",
            "Requirement already satisfied: aiosignal>=1.1.2 in /usr/local/lib/python3.9/dist-packages (from aiohttp->datasets) (1.3.1)\n",
            "Requirement already satisfied: frozenlist>=1.1.1 in /usr/local/lib/python3.9/dist-packages (from aiohttp->datasets) (1.3.3)\n",
            "Requirement already satisfied: filelock in /usr/local/lib/python3.9/dist-packages (from huggingface-hub<1.0.0,>=0.2.0->datasets) (3.9.0)\n",
            "Requirement already satisfied: six>=1.5 in /usr/local/lib/python3.9/dist-packages (from python-dateutil>=2.7->matplotlib) (1.15.0)\n",
            "Requirement already satisfied: urllib3<1.27,>=1.21.1 in /usr/local/lib/python3.9/dist-packages (from requests->torchtext) (1.26.14)\n",
            "Requirement already satisfied: chardet<5,>=3.0.2 in /usr/local/lib/python3.9/dist-packages (from requests->torchtext) (4.0.0)\n",
            "Requirement already satisfied: certifi>=2017.4.17 in /usr/local/lib/python3.9/dist-packages (from requests->torchtext) (2022.12.7)\n",
            "Requirement already satisfied: idna<3,>=2.5 in /usr/local/lib/python3.9/dist-packages (from requests->torchtext) (2.10)\n",
            "Requirement already satisfied: pytz>=2017.3 in /usr/local/lib/python3.9/dist-packages (from pandas->datasets) (2022.7.1)\n"
          ]
        }
      ],
      "source": [
        "!pip install torch==1.13.1 torchtext torchinfo datasets matplotlib"
      ]
    },
    {
      "cell_type": "code",
      "execution_count": 56,
      "metadata": {
        "tags": [],
        "id": "nW-UydEfWzsy"
      },
      "outputs": [],
      "source": [
        "import torch, model, importlib\n",
        "importlib.reload(model);"
      ]
    },
    {
      "cell_type": "code",
      "execution_count": 57,
      "metadata": {
        "tags": [],
        "colab": {
          "base_uri": "https://localhost:8080/"
        },
        "id": "0SdlprX8Wzsz",
        "outputId": "88f2ed06-7bb0-499b-a68f-2f749680474a"
      },
      "outputs": [
        {
          "output_type": "stream",
          "name": "stdout",
          "text": [
            "cuda\n"
          ]
        }
      ],
      "source": [
        "if torch.cuda.is_available():\n",
        "    torch.set_default_tensor_type('torch.cuda.FloatTensor')\n",
        "    device = torch.device('cuda')\n",
        "else:\n",
        "    device = torch.device('cpu')\n",
        "print(device)"
      ]
    },
    {
      "cell_type": "markdown",
      "metadata": {
        "id": "89kI46CZWzs0"
      },
      "source": [
        "# Data loading and preparation"
      ]
    },
    {
      "cell_type": "code",
      "execution_count": 58,
      "metadata": {
        "tags": [],
        "colab": {
          "base_uri": "https://localhost:8080/",
          "height": 329,
          "referenced_widgets": [
            "d178840bdb9f415fbbb78b07285552d3",
            "ad235c472ac14ddf99b302c57482ac8b",
            "cc2337cc10ec42d7b31656845b985ab8",
            "3f9cc853744e49269789896f1a1fb1d1",
            "26daac98266549138bb21cf193402d34",
            "e5d375a7cd3f4c948945f2abe67949c2",
            "a933b87f3cc84fa086f275b3dd562269",
            "577abb88de364ebbb4f4778a7ee17d69",
            "0b80ed9f9e5a44e9973a34ff76599059",
            "3e80cbcce395458ead50c74f5cd012d0",
            "e73b4f0409a94c5fa6fb71a1cd72ac18"
          ]
        },
        "id": "x6mulqoAWzs2",
        "outputId": "991a6615-f9f8-4c27-ea17-0d0f4b02330b"
      },
      "outputs": [
        {
          "output_type": "stream",
          "name": "stderr",
          "text": [
            "WARNING:datasets.builder:Found cached dataset daily_dialog (/root/.cache/huggingface/datasets/daily_dialog/default/1.0.0/1d0a58c7f2a4dab5ed9d01dbde8e55e0058e589ab81fce5c2df929ea810eabcd)\n"
          ]
        },
        {
          "output_type": "display_data",
          "data": {
            "text/plain": [
              "  0%|          | 0/3 [00:00<?, ?it/s]"
            ],
            "application/vnd.jupyter.widget-view+json": {
              "version_major": 2,
              "version_minor": 0,
              "model_id": "d178840bdb9f415fbbb78b07285552d3"
            }
          },
          "metadata": {}
        },
        {
          "output_type": "execute_result",
          "data": {
            "text/plain": [
              "DatasetDict({\n",
              "    train: Dataset({\n",
              "        features: ['dialog', 'act', 'emotion'],\n",
              "        num_rows: 11118\n",
              "    })\n",
              "    validation: Dataset({\n",
              "        features: ['dialog', 'act', 'emotion'],\n",
              "        num_rows: 1000\n",
              "    })\n",
              "    test: Dataset({\n",
              "        features: ['dialog', 'act', 'emotion'],\n",
              "        num_rows: 1000\n",
              "    })\n",
              "})"
            ]
          },
          "metadata": {},
          "execution_count": 58
        }
      ],
      "source": [
        "import datasets\n",
        "\n",
        "dataset = datasets.load_dataset('daily_dialog')\n",
        "dataset"
      ]
    },
    {
      "cell_type": "code",
      "execution_count": 59,
      "metadata": {
        "tags": [],
        "id": "0YIcpE30Wzs3"
      },
      "outputs": [],
      "source": [
        "from torchtext.vocab import GloVe, vocab\n",
        "\n",
        "pretrained_vectors = GloVe(name=\"6B\", dim=50)\n",
        "pretrained_vocab = vocab(pretrained_vectors.stoi)\n",
        "pretrained_vocab.insert_token(\"<unk>\", 0)\n",
        "pretrained_vocab.insert_token(\"<pad>\", 1)\n",
        "pretrained_vocab.set_default_index(0)\n",
        "pretrained_embeddings = pretrained_vectors.vectors.to(device)\n",
        "pretrained_embeddings = torch.cat((torch.zeros(1,pretrained_embeddings.shape[1]),pretrained_embeddings))\n",
        "vocab_stoi = pretrained_vocab.get_stoi()"
      ]
    },
    {
      "cell_type": "code",
      "execution_count": 60,
      "metadata": {
        "tags": [],
        "colab": {
          "base_uri": "https://localhost:8080/"
        },
        "id": "ddGOEU3_Wzs3",
        "outputId": "34000f68-4629-446e-c80d-326886d190ee"
      },
      "outputs": [
        {
          "output_type": "execute_result",
          "data": {
            "text/plain": [
              "290"
            ]
          },
          "metadata": {},
          "execution_count": 60
        }
      ],
      "source": [
        "import numpy as np\n",
        "from torchtext.data import get_tokenizer\n",
        "tokenizer = get_tokenizer(\"basic_english\")\n",
        "\n",
        "max_len = max([\n",
        "    len(tokenizer(sentence))\n",
        "     for dialog in dataset['train']['dialog'] + dataset['validation']['dialog'] + dataset['test']['dialog']\n",
        "     for sentence in dialog \n",
        "])\n",
        "max_len"
      ]
    },
    {
      "cell_type": "code",
      "execution_count": 61,
      "metadata": {
        "tags": [],
        "id": "r0g4Rvj1Wzs4"
      },
      "outputs": [],
      "source": [
        "@np.vectorize\n",
        "def numericalize(word, vocab_stoi):\n",
        "    return vocab_stoi[word] if word in vocab_stoi else 0\n",
        "\n",
        "def preprocess(sentence, max_len):\n",
        "    # Tokenizer, word to indices, padding\n",
        "    sentence = tokenizer(sentence.lower())\n",
        "    sentence = sentence + [\"<pad>\" for _ in range(max_len-len(sentence))]\n",
        "    sentence = numericalize(sentence, vocab_stoi)\n",
        "    return sentence\n",
        "    "
      ]
    },
    {
      "cell_type": "code",
      "execution_count": 62,
      "metadata": {
        "tags": [],
        "id": "nBmy-csKWzs4"
      },
      "outputs": [],
      "source": [
        "# For each dialog, we take the first 5 utterances\n",
        "new_dataset = dict()\n",
        "for split in ['train', 'validation', 'test']:\n",
        "    new_dataset[split] = [\n",
        "        (\n",
        "            np.array([preprocess(sentence, max_len=max_len) for sentence in dialog[:5]]),\n",
        "            np.array([a for a in act[:5]])\n",
        "        )\n",
        "        for dialog, act in zip(dataset[split]['dialog'], dataset[split]['act'])\n",
        "        if len(dialog) >= 5\n",
        "    ]"
      ]
    },
    {
      "cell_type": "code",
      "execution_count": 63,
      "metadata": {
        "tags": [],
        "id": "r-FgHwZiWzs5"
      },
      "outputs": [],
      "source": [
        "class DialogActDataset(torch.utils.data.Dataset):\n",
        "    def __init__(self, data):\n",
        "        self.data = data\n",
        "\n",
        "    def __len__(self):\n",
        "        return len(self.data)\n",
        "    \n",
        "    def __getitem__(self, idx):\n",
        "        return dict(\n",
        "            dialog = torch.tensor(self.data[idx][0]),\n",
        "            act = torch.tensor(self.data[idx][1])\n",
        "        )"
      ]
    },
    {
      "cell_type": "code",
      "execution_count": 64,
      "metadata": {
        "tags": [],
        "id": "oYKf6Nz7Wzs5"
      },
      "outputs": [],
      "source": [
        "kwargs = dict(\n",
        "    batch_size = 128,\n",
        "    shuffle = True,\n",
        "    drop_last = True,\n",
        "    generator = torch.Generator(device=device)\n",
        ")\n",
        "\n",
        "train_loader = torch.utils.data.DataLoader(\n",
        "    DialogActDataset(new_dataset['train']), **kwargs\n",
        ")\n",
        "val_loader = torch.utils.data.DataLoader(\n",
        "    DialogActDataset(new_dataset['validation']), **kwargs\n",
        ")\n",
        "test_loader = torch.utils.data.DataLoader(\n",
        "    DialogActDataset(new_dataset['test']), **kwargs\n",
        ")"
      ]
    },
    {
      "cell_type": "markdown",
      "metadata": {
        "id": "K4Yf4LlwWzs6"
      },
      "source": [
        "# Soft-guided Attention\n",
        "## Training"
      ]
    },
    {
      "cell_type": "code",
      "execution_count": 65,
      "metadata": {
        "id": "uQyFA5DhWzs6"
      },
      "outputs": [],
      "source": [
        "def evaluate(model, test_loader, device):\n",
        "    \"\"\"Measures the accuracy of `model` on `test_loader`.\"\"\"\n",
        "    model.eval()\n",
        "    with torch.no_grad():\n",
        "        correct = 0\n",
        "        for batch_idx, batch in enumerate(test_loader):\n",
        "            x = batch['dialog'].to(device)\n",
        "            target = batch['act'].to(device)\n",
        "            out = model(x)\n",
        "            out_argmax = torch.argmax(out, dim=-1)\n",
        "            correct += torch.sum( torch.where( out_argmax == target, 1, 0 ) ).item()\n",
        "            \n",
        "    return correct / len(test_loader) / kwargs['batch_size'] / 5"
      ]
    },
    {
      "cell_type": "code",
      "execution_count": 66,
      "metadata": {
        "tags": [],
        "colab": {
          "base_uri": "https://localhost:8080/"
        },
        "id": "GLHmlvzmWzs7",
        "outputId": "d3ac4b00-5ae5-444b-e0b9-9f87f37db30d"
      },
      "outputs": [
        {
          "output_type": "execute_result",
          "data": {
            "text/plain": [
              "=================================================================\n",
              "Layer (type:depth-idx)                   Param #\n",
              "=================================================================\n",
              "Seq2SeqModel                             --\n",
              "├─Embedding: 1-1                         (20,000,050)\n",
              "├─HierarchicalEncoder: 1-2               --\n",
              "│    └─GRU: 2-1                          138,240\n",
              "│    └─GRU: 2-2                          296,448\n",
              "├─SoftGuidedAttentionDecoder: 1-3        --\n",
              "│    └─Linear: 2-3                       513\n",
              "│    └─GRUCell: 2-4                      394,752\n",
              "├─Linear: 1-4                            1,285\n",
              "=================================================================\n",
              "Total params: 20,831,288\n",
              "Trainable params: 831,238\n",
              "Non-trainable params: 20,000,050\n",
              "================================================================="
            ]
          },
          "metadata": {},
          "execution_count": 66
        }
      ],
      "source": [
        "import torchinfo\n",
        "\n",
        "network = model.Seq2SeqModel(\n",
        "    pretrained_embeddings = pretrained_embeddings,\n",
        "    encoder = model.HierarchicalEncoder(\n",
        "        input_size = pretrained_embeddings.shape[1],\n",
        "        sequence_length = 5,\n",
        "        hidden_size = 128,\n",
        "        persona_level = False,\n",
        "    ),\n",
        "    decoder = model.SoftGuidedAttentionDecoder(\n",
        "        hidden_size = 128,\n",
        "        sequence_length = 5,\n",
        "    ),\n",
        "    nb_classes = 5,\n",
        "    hidden_size = 128,\n",
        ")\n",
        "torchinfo.summary(network)"
      ]
    },
    {
      "cell_type": "code",
      "execution_count": 67,
      "metadata": {
        "tags": [],
        "colab": {
          "base_uri": "https://localhost:8080/"
        },
        "id": "Nkr6a7_uWzs7",
        "outputId": "1aedb644-09cc-4aca-e70c-249586835aae"
      },
      "outputs": [
        {
          "output_type": "stream",
          "name": "stdout",
          "text": [
            "Epoch 20/300, training loss: 0.01166\n",
            "Epoch 20/300, val loss: 0.01166\n",
            "Epoch 20/300, val accuracy: 0.4116\n",
            "Epoch 40/300, training loss: 0.0114\n",
            "Epoch 40/300, val loss: 0.01142\n",
            "Epoch 40/300, val accuracy: 0.4097\n",
            "Epoch 60/300, training loss: 0.01131\n",
            "Epoch 60/300, val loss: 0.01132\n",
            "Epoch 60/300, val accuracy: 0.4625\n",
            "Epoch 80/300, training loss: 0.01127\n",
            "Epoch 80/300, val loss: 0.01126\n",
            "Epoch 80/300, val accuracy: 0.4597\n",
            "Epoch 100/300, training loss: 0.01126\n",
            "Epoch 100/300, val loss: 0.01126\n",
            "Epoch 100/300, val accuracy: 0.4675\n",
            "Epoch 120/300, training loss: 0.01124\n",
            "Epoch 120/300, val loss: 0.01127\n",
            "Epoch 120/300, val accuracy: 0.4647\n",
            "Epoch 140/300, training loss: 0.01124\n",
            "Epoch 140/300, val loss: 0.01126\n",
            "Epoch 140/300, val accuracy: 0.4703\n",
            "Epoch 160/300, training loss: 0.01124\n",
            "Epoch 160/300, val loss: 0.01122\n",
            "Epoch 160/300, val accuracy: 0.4628\n",
            "Epoch 180/300, training loss: 0.01124\n",
            "Epoch 180/300, val loss: 0.01122\n",
            "Epoch 180/300, val accuracy: 0.4591\n",
            "Epoch 200/300, training loss: 0.01123\n",
            "Epoch 200/300, val loss: 0.01124\n",
            "Epoch 200/300, val accuracy: 0.4528\n",
            "Epoch 220/300, training loss: 0.01123\n",
            "Epoch 220/300, val loss: 0.01126\n",
            "Epoch 220/300, val accuracy: 0.4634\n",
            "Epoch 240/300, training loss: 0.01123\n",
            "Epoch 240/300, val loss: 0.0112\n",
            "Epoch 240/300, val accuracy: 0.4641\n",
            "Epoch 260/300, training loss: 0.01123\n",
            "Epoch 260/300, val loss: 0.0112\n",
            "Epoch 260/300, val accuracy: 0.4594\n",
            "Epoch 280/300, training loss: 0.01123\n",
            "Epoch 280/300, val loss: 0.01125\n",
            "Epoch 280/300, val accuracy: 0.4619\n",
            "Epoch 300/300, training loss: 0.01123\n",
            "Epoch 300/300, val loss: 0.0112\n",
            "Epoch 300/300, val accuracy: 0.4681\n"
          ]
        }
      ],
      "source": [
        "def train(model, train_loader, val_loader, optimizer, loss_fn, device, n_epochs=10):\n",
        "    train_losses, val_losses, val_accuracies = [], [], []\n",
        "    \n",
        "    model.to(device)\n",
        "    for epoch in range(n_epochs):\n",
        "        # Training\n",
        "        model.train()\n",
        "        train_loss = 0\n",
        "\n",
        "        for batch_idx, batch in enumerate(train_loader):\n",
        "\n",
        "            optimizer.zero_grad()\n",
        "\n",
        "            x = batch['dialog'].to(device)\n",
        "            target = batch['act'].to(device)\n",
        "\n",
        "            out = model(x).transpose(1,2)\n",
        "\n",
        "            loss = loss_fn(out, target.long())\n",
        "            train_loss += loss.item()\n",
        "\n",
        "            loss.backward()\n",
        "            optimizer.step()\n",
        "\n",
        "            \n",
        "        if (epoch+1)%20 == 0: print(f'Epoch {epoch+1}/{n_epochs}, training loss: {train_loss/len(train_loader)/kwargs[\"batch_size\"]:.4g}')\n",
        "        train_losses.append(train_loss/len(train_loader)/kwargs['batch_size'])\n",
        "\n",
        "                \n",
        "        # Testing\n",
        "        model.eval()\n",
        "        with torch.no_grad():\n",
        "            loss = 0\n",
        "            for batch_idx, batch in enumerate(val_loader):\n",
        "                x = batch['dialog'].to(device)\n",
        "                target = batch['act'].to(device)\n",
        "                out = model(x).transpose(1,2)\n",
        "                loss += loss_fn(out, target.long()).item()\n",
        "                \n",
        "        if (epoch+1)%20 == 0: print(f'Epoch {epoch+1}/{n_epochs}, val loss: {loss/len(val_loader)/kwargs[\"batch_size\"]:.4g}')\n",
        "        val_losses.append(loss/len(val_loader)/kwargs['batch_size'])\n",
        "\n",
        "        acc = evaluate(network, val_loader, device)\n",
        "        if (epoch+1)%20 == 0: print(f'Epoch {epoch+1}/{n_epochs}, val accuracy: {acc:.4g}')\n",
        "        val_accuracies.append(acc)\n",
        "    \n",
        "    return train_losses, val_losses, val_accuracies\n",
        "\n",
        "train_losses, val_losses, val_accuracies = train(\n",
        "    network,\n",
        "    train_loader,\n",
        "    test_loader,\n",
        "    optimizer = torch.optim.SGD(network.parameters(), lr=3e-3),\n",
        "    loss_fn = torch.nn.CrossEntropyLoss(),\n",
        "    device = 'cuda' if torch.cuda.is_available() else 'cpu',\n",
        "    n_epochs = 300\n",
        ")"
      ]
    },
    {
      "cell_type": "code",
      "execution_count": 68,
      "metadata": {
        "tags": [],
        "colab": {
          "base_uri": "https://localhost:8080/",
          "height": 497
        },
        "id": "TRVLPc3PWzs8",
        "outputId": "adc7f09a-4e26-4289-93bd-d1739a27eb04"
      },
      "outputs": [
        {
          "output_type": "display_data",
          "data": {
            "text/plain": [
              "<Figure size 1152x576 with 2 Axes>"
            ],
            "image/png": "[encoded data removed]"
          },
          "metadata": {
            "needs_background": "light"
          }
        }
      ],
      "source": [
        "import matplotlib.pyplot as plt\n",
        "\n",
        "def plot_progress(train_losses, val_losses, val_accuracies):\n",
        "    fig, (left, right) = plt.subplots(1, 2, figsize=(16,8))\n",
        "\n",
        "    left.plot(train_losses, color='red', label='Train loss')\n",
        "    left.plot(val_losses, color='blue', label='Val loss')\n",
        "    left.legend()\n",
        "    left.set_xlabel('Epochs')\n",
        "    left.set_ylabel('Cross-entropy')\n",
        "\n",
        "    right.plot(val_accuracies, color='green', label='Val accuracy')\n",
        "    right.legend()\n",
        "    right.set_xlabel('Epochs')\n",
        "    right.set_ylabel('Accuracy')\n",
        "    fig.show()\n",
        "\n",
        "plot_progress(train_losses, val_losses, val_accuracies)"
      ]
    },
    {
      "cell_type": "code",
      "execution_count": 69,
      "metadata": {
        "tags": [],
        "id": "FPZ9b6hjWzs8"
      },
      "outputs": [],
      "source": [
        "torch.save(network, 'model_soft_guided.pkl')"
      ]
    },
    {
      "cell_type": "markdown",
      "metadata": {
        "id": "scSJTauXWzs8"
      },
      "source": [
        "## Evaluation with accuracy"
      ]
    },
    {
      "cell_type": "code",
      "execution_count": 70,
      "metadata": {
        "tags": [],
        "colab": {
          "base_uri": "https://localhost:8080/"
        },
        "id": "TdEj0fb-Wzs8",
        "outputId": "ae328e3d-7d53-4122-9973-1f3beed82a44"
      },
      "outputs": [
        {
          "output_type": "execute_result",
          "data": {
            "text/plain": [
              "0.4659375"
            ]
          },
          "metadata": {},
          "execution_count": 70
        }
      ],
      "source": [
        "network = torch.load('model_soft_guided.pkl')\n",
        "evaluate(network, test_loader, device)"
      ]
    },
    {
      "cell_type": "markdown",
      "metadata": {
        "id": "t2b8CTzsWzs8"
      },
      "source": [
        "# Hard-guided Attention"
      ]
    },
    {
      "cell_type": "code",
      "execution_count": 71,
      "metadata": {
        "colab": {
          "base_uri": "https://localhost:8080/"
        },
        "id": "NcdvrzEBWzs9",
        "outputId": "c9cdd9cc-e233-4d7b-e424-6943bbe8e7f2"
      },
      "outputs": [
        {
          "output_type": "execute_result",
          "data": {
            "text/plain": [
              "=================================================================\n",
              "Layer (type:depth-idx)                   Param #\n",
              "=================================================================\n",
              "Seq2SeqModel                             --\n",
              "├─Embedding: 1-1                         (20,000,050)\n",
              "├─HierarchicalEncoder: 1-2               --\n",
              "│    └─GRU: 2-1                          138,240\n",
              "│    └─GRU: 2-2                          296,448\n",
              "├─HardGuidedAttentionDecoder: 1-3        --\n",
              "│    └─GRUCell: 2-3                      394,752\n",
              "├─Linear: 1-4                            1,285\n",
              "=================================================================\n",
              "Total params: 20,830,775\n",
              "Trainable params: 830,725\n",
              "Non-trainable params: 20,000,050\n",
              "================================================================="
            ]
          },
          "metadata": {},
          "execution_count": 71
        }
      ],
      "source": [
        "network = model.Seq2SeqModel(\n",
        "    pretrained_embeddings = pretrained_embeddings,\n",
        "    encoder = model.HierarchicalEncoder(\n",
        "        input_size = pretrained_embeddings.shape[1],\n",
        "        sequence_length = 5,\n",
        "        hidden_size = 128,\n",
        "        persona_level = False,\n",
        "    ),\n",
        "    decoder = model.HardGuidedAttentionDecoder(\n",
        "        hidden_size = 128,\n",
        "        sequence_length = 5,\n",
        "    ),\n",
        "    nb_classes = 5,\n",
        "    hidden_size = 128,\n",
        ")\n",
        "torchinfo.summary(network)"
      ]
    },
    {
      "cell_type": "code",
      "execution_count": 72,
      "metadata": {
        "colab": {
          "base_uri": "https://localhost:8080/"
        },
        "id": "KAaYf4eKWzs9",
        "outputId": "223fbb2e-bb83-43d2-daba-37fca1f3345f"
      },
      "outputs": [
        {
          "output_type": "stream",
          "name": "stdout",
          "text": [
            "Epoch 20/300, training loss: 0.01167\n",
            "Epoch 20/300, val loss: 0.01165\n",
            "Epoch 20/300, val accuracy: 0.4116\n",
            "Epoch 40/300, training loss: 0.01139\n",
            "Epoch 40/300, val loss: 0.01141\n",
            "Epoch 40/300, val accuracy: 0.4088\n",
            "Epoch 60/300, training loss: 0.0113\n",
            "Epoch 60/300, val loss: 0.0113\n",
            "Epoch 60/300, val accuracy: 0.4591\n",
            "Epoch 80/300, training loss: 0.01127\n",
            "Epoch 80/300, val loss: 0.01127\n",
            "Epoch 80/300, val accuracy: 0.4669\n",
            "Epoch 100/300, training loss: 0.01125\n",
            "Epoch 100/300, val loss: 0.01124\n",
            "Epoch 100/300, val accuracy: 0.4641\n",
            "Epoch 120/300, training loss: 0.01125\n",
            "Epoch 120/300, val loss: 0.01125\n",
            "Epoch 120/300, val accuracy: 0.4559\n",
            "Epoch 140/300, training loss: 0.01124\n",
            "Epoch 140/300, val loss: 0.01123\n",
            "Epoch 140/300, val accuracy: 0.47\n",
            "Epoch 160/300, training loss: 0.01124\n",
            "Epoch 160/300, val loss: 0.01125\n",
            "Epoch 160/300, val accuracy: 0.4619\n",
            "Epoch 180/300, training loss: 0.01124\n",
            "Epoch 180/300, val loss: 0.01121\n",
            "Epoch 180/300, val accuracy: 0.4603\n",
            "Epoch 200/300, training loss: 0.01124\n",
            "Epoch 200/300, val loss: 0.01123\n",
            "Epoch 200/300, val accuracy: 0.4647\n",
            "Epoch 220/300, training loss: 0.01123\n",
            "Epoch 220/300, val loss: 0.01125\n",
            "Epoch 220/300, val accuracy: 0.4681\n",
            "Epoch 240/300, training loss: 0.01123\n",
            "Epoch 240/300, val loss: 0.0112\n",
            "Epoch 240/300, val accuracy: 0.4556\n",
            "Epoch 260/300, training loss: 0.01123\n",
            "Epoch 260/300, val loss: 0.01122\n",
            "Epoch 260/300, val accuracy: 0.4606\n",
            "Epoch 280/300, training loss: 0.01123\n",
            "Epoch 280/300, val loss: 0.01123\n",
            "Epoch 280/300, val accuracy: 0.4631\n",
            "Epoch 300/300, training loss: 0.01122\n",
            "Epoch 300/300, val loss: 0.01125\n",
            "Epoch 300/300, val accuracy: 0.4688\n"
          ]
        }
      ],
      "source": [
        "train_losses, test_losses, val_accuracies = train(\n",
        "    network,\n",
        "    train_loader,\n",
        "    test_loader,  \n",
        "    optimizer = torch.optim.SGD(network.parameters(), lr=3e-3),\n",
        "    loss_fn = torch.nn.CrossEntropyLoss(),\n",
        "    device = 'cuda' if torch.cuda.is_available() else 'cpu',\n",
        "    n_epochs = 300\n",
        ")"
      ]
    },
    {
      "cell_type": "code",
      "execution_count": 73,
      "metadata": {
        "colab": {
          "base_uri": "https://localhost:8080/",
          "height": 498
        },
        "id": "G8uXjNiGWzs9",
        "outputId": "55377a01-47cc-44a3-a654-0aed0b3448b8"
      },
      "outputs": [
        {
          "output_type": "display_data",
          "data": {
            "text/plain": [
              "<Figure size 1152x576 with 2 Axes>"
            ],
            "image/png": "[encoded data removed]"
          },
          "metadata": {
            "needs_background": "light"
          }
        }
      ],
      "source": [
        "plot_progress(train_losses, val_losses, val_accuracies)"
      ]
    },
    {
      "cell_type": "code",
      "execution_count": 74,
      "metadata": {
        "id": "z8htzNEwWzs9"
      },
      "outputs": [],
      "source": [
        "torch.save(network, 'model_hard_guided.pkl')"
      ]
    },
    {
      "cell_type": "code",
      "execution_count": 75,
      "metadata": {
        "tags": [],
        "colab": {
          "base_uri": "https://localhost:8080/"
        },
        "id": "AOmLg-gdWzs-",
        "outputId": "d83315a2-5388-41cd-c491-e77f9fcabe2d"
      },
      "outputs": [
        {
          "output_type": "execute_result",
          "data": {
            "text/plain": [
              "0.4703125"
            ]
          },
          "metadata": {},
          "execution_count": 75
        }
      ],
      "source": [
        "network = torch.load('model_hard_guided.pkl') \n",
        "evaluate(network, test_loader, device)"
      ]
    }
  ],
  "metadata": {
    "kernelspec": {
      "display_name": "Python 3 (ipykernel)",
      "language": "python",
      "name": "python3"
    },
    "language_info": {
      "codemirror_mode": {
        "name": "ipython",
        "version": 3
      },
      "file_extension": ".py",
      "mimetype": "text/x-python",
      "name": "python",
      "nbconvert_exporter": "python",
      "pygments_lexer": "ipython3",
      "version": "3.10.8"
    },
    "vscode": {
      "interpreter": {
        "hash": "5895846bd8895370c40c21e36c79c4eb41c3a72753ef20f6391cf79dc6750c48"
      }
    },
    "colab": {
      "provenance": []
    },
    "accelerator": "GPU",
    "gpuClass": "standard",
    "widgets": {
      "application/vnd.jupyter.widget-state+json": {
        "d178840bdb9f415fbbb78b07285552d3": {
          "model_module": "@jupyter-widgets/controls",
          "model_name": "HBoxModel",
          "model_module_version": "1.5.0",
          "state": {
            "_dom_classes": [],
            "_model_module": "@jupyter-widgets/controls",
            "_model_module_version": "1.5.0",
            "_model_name": "HBoxModel",
            "_view_count": null,
            "_view_module": "@jupyter-widgets/controls",
            "_view_module_version": "1.5.0",
            "_view_name": "HBoxView",
            "box_style": "",
            "children": [
              "IPY_MODEL_ad235c472ac14ddf99b302c57482ac8b",
              "IPY_MODEL_cc2337cc10ec42d7b31656845b985ab8",
              "IPY_MODEL_3f9cc853744e49269789896f1a1fb1d1"
            ],
            "layout": "IPY_MODEL_26daac98266549138bb21cf193402d34"
          }
        },
        "ad235c472ac14ddf99b302c57482ac8b": {
          "model_module": "@jupyter-widgets/controls",
          "model_name": "HTMLModel",
          "model_module_version": "1.5.0",
          "state": {
            "_dom_classes": [],
            "_model_module": "@jupyter-widgets/controls",
            "_model_module_version": "1.5.0",
            "_model_name": "HTMLModel",
            "_view_count": null,
            "_view_module": "@jupyter-widgets/controls",
            "_view_module_version": "1.5.0",
            "_view_name": "HTMLView",
            "description": "",
            "description_tooltip": null,
            "layout": "IPY_MODEL_e5d375a7cd3f4c948945f2abe67949c2",
            "placeholder": "​",
            "style": "IPY_MODEL_a933b87f3cc84fa086f275b3dd562269",
            "value": "100%"
          }
        },
        "cc2337cc10ec42d7b31656845b985ab8": {
          "model_module": "@jupyter-widgets/controls",
          "model_name": "FloatProgressModel",
          "model_module_version": "1.5.0",
          "state": {
            "_dom_classes": [],
            "_model_module": "@jupyter-widgets/controls",
            "_model_module_version": "1.5.0",
            "_model_name": "FloatProgressModel",
            "_view_count": null,
            "_view_module": "@jupyter-widgets/controls",
            "_view_module_version": "1.5.0",
            "_view_name": "ProgressView",
            "bar_style": "success",
            "description": "",
            "description_tooltip": null,
            "layout": "IPY_MODEL_577abb88de364ebbb4f4778a7ee17d69",
            "max": 3,
            "min": 0,
            "orientation": "horizontal",
            "style": "IPY_MODEL_0b80ed9f9e5a44e9973a34ff76599059",
            "value": 3
          }
        },
        "3f9cc853744e49269789896f1a1fb1d1": {
          "model_module": "@jupyter-widgets/controls",
          "model_name": "HTMLModel",
          "model_module_version": "1.5.0",
          "state": {
            "_dom_classes": [],
            "_model_module": "@jupyter-widgets/controls",
            "_model_module_version": "1.5.0",
            "_model_name": "HTMLModel",
            "_view_count": null,
            "_view_module": "@jupyter-widgets/controls",
            "_view_module_version": "1.5.0",
            "_view_name": "HTMLView",
            "description": "",
            "description_tooltip": null,
            "layout": "IPY_MODEL_3e80cbcce395458ead50c74f5cd012d0",
            "placeholder": "​",
            "style": "IPY_MODEL_e73b4f0409a94c5fa6fb71a1cd72ac18",
            "value": " 3/3 [00:00&lt;00:00, 130.73it/s]"
          }
        },
        "26daac98266549138bb21cf193402d34": {
          "model_module": "@jupyter-widgets/base",
          "model_name": "LayoutModel",
          "model_module_version": "1.2.0",
          "state": {
            "_model_module": "@jupyter-widgets/base",
            "_model_module_version": "1.2.0",
            "_model_name": "LayoutModel",
            "_view_count": null,
            "_view_module": "@jupyter-widgets/base",
            "_view_module_version": "1.2.0",
            "_view_name": "LayoutView",
            "align_content": null,
            "align_items": null,
            "align_self": null,
            "border": null,
            "bottom": null,
            "display": null,
            "flex": null,
            "flex_flow": null,
            "grid_area": null,
            "grid_auto_columns": null,
            "grid_auto_flow": null,
            "grid_auto_rows": null,
            "grid_column": null,
            "grid_gap": null,
            "grid_row": null,
            "grid_template_areas": null,
            "grid_template_columns": null,
            "grid_template_rows": null,
            "height": null,
            "justify_content": null,
            "justify_items": null,
            "left": null,
            "margin": null,
            "max_height": null,
            "max_width": null,
            "min_height": null,
            "min_width": null,
            "object_fit": null,
            "object_position": null,
            "order": null,
            "overflow": null,
            "overflow_x": null,
            "overflow_y": null,
            "padding": null,
            "right": null,
            "top": null,
            "visibility": null,
            "width": null
          }
        },
        "e5d375a7cd3f4c948945f2abe67949c2": {
          "model_module": "@jupyter-widgets/base",
          "model_name": "LayoutModel",
          "model_module_version": "1.2.0",
          "state": {
            "_model_module": "@jupyter-widgets/base",
            "_model_module_version": "1.2.0",
            "_model_name": "LayoutModel",
            "_view_count": null,
            "_view_module": "@jupyter-widgets/base",
            "_view_module_version": "1.2.0",
            "_view_name": "LayoutView",
            "align_content": null,
            "align_items": null,
            "align_self": null,
            "border": null,
            "bottom": null,
            "display": null,
            "flex": null,
            "flex_flow": null,
            "grid_area": null,
            "grid_auto_columns": null,
            "grid_auto_flow": null,
            "grid_auto_rows": null,
            "grid_column": null,
            "grid_gap": null,
            "grid_row": null,
            "grid_template_areas": null,
            "grid_template_columns": null,
            "grid_template_rows": null,
            "height": null,
            "justify_content": null,
            "justify_items": null,
            "left": null,
            "margin": null,
            "max_height": null,
            "max_width": null,
            "min_height": null,
            "min_width": null,
            "object_fit": null,
            "object_position": null,
            "order": null,
            "overflow": null,
            "overflow_x": null,
            "overflow_y": null,
            "padding": null,
            "right": null,
            "top": null,
            "visibility": null,
            "width": null
          }
        },
        "a933b87f3cc84fa086f275b3dd562269": {
          "model_module": "@jupyter-widgets/controls",
          "model_name": "DescriptionStyleModel",
          "model_module_version": "1.5.0",
          "state": {
            "_model_module": "@jupyter-widgets/controls",
            "_model_module_version": "1.5.0",
            "_model_name": "DescriptionStyleModel",
            "_view_count": null,
            "_view_module": "@jupyter-widgets/base",
            "_view_module_version": "1.2.0",
            "_view_name": "StyleView",
            "description_width": ""
          }
        },
        "577abb88de364ebbb4f4778a7ee17d69": {
          "model_module": "@jupyter-widgets/base",
          "model_name": "LayoutModel",
          "model_module_version": "1.2.0",
          "state": {
            "_model_module": "@jupyter-widgets/base",
            "_model_module_version": "1.2.0",
            "_model_name": "LayoutModel",
            "_view_count": null,
            "_view_module": "@jupyter-widgets/base",
            "_view_module_version": "1.2.0",
            "_view_name": "LayoutView",
            "align_content": null,
            "align_items": null,
            "align_self": null,
            "border": null,
            "bottom": null,
            "display": null,
            "flex": null,
            "flex_flow": null,
            "grid_area": null,
            "grid_auto_columns": null,
            "grid_auto_flow": null,
            "grid_auto_rows": null,
            "grid_column": null,
            "grid_gap": null,
            "grid_row": null,
            "grid_template_areas": null,
            "grid_template_columns": null,
            "grid_template_rows": null,
            "height": null,
            "justify_content": null,
            "justify_items": null,
            "left": null,
            "margin": null,
            "max_height": null,
            "max_width": null,
            "min_height": null,
            "min_width": null,
            "object_fit": null,
            "object_position": null,
            "order": null,
            "overflow": null,
            "overflow_x": null,
            "overflow_y": null,
            "padding": null,
            "right": null,
            "top": null,
            "visibility": null,
            "width": null
          }
        },
        "0b80ed9f9e5a44e9973a34ff76599059": {
          "model_module": "@jupyter-widgets/controls",
          "model_name": "ProgressStyleModel",
          "model_module_version": "1.5.0",
          "state": {
            "_model_module": "@jupyter-widgets/controls",
            "_model_module_version": "1.5.0",
            "_model_name": "ProgressStyleModel",
            "_view_count": null,
            "_view_module": "@jupyter-widgets/base",
            "_view_module_version": "1.2.0",
            "_view_name": "StyleView",
            "bar_color": null,
            "description_width": ""
          }
        },
        "3e80cbcce395458ead50c74f5cd012d0": {
          "model_module": "@jupyter-widgets/base",
          "model_name": "LayoutModel",
          "model_module_version": "1.2.0",
          "state": {
            "_model_module": "@jupyter-widgets/base",
            "_model_module_version": "1.2.0",
            "_model_name": "LayoutModel",
            "_view_count": null,
            "_view_module": "@jupyter-widgets/base",
            "_view_module_version": "1.2.0",
            "_view_name": "LayoutView",
            "align_content": null,
            "align_items": null,
            "align_self": null,
            "border": null,
            "bottom": null,
            "display": null,
            "flex": null,
            "flex_flow": null,
            "grid_area": null,
            "grid_auto_columns": null,
            "grid_auto_flow": null,
            "grid_auto_rows": null,
            "grid_column": null,
            "grid_gap": null,
            "grid_row": null,
            "grid_template_areas": null,
            "grid_template_columns": null,
            "grid_template_rows": null,
            "height": null,
            "justify_content": null,
            "justify_items": null,
            "left": null,
            "margin": null,
            "max_height": null,
            "max_width": null,
            "min_height": null,
            "min_width": null,
            "object_fit": null,
            "object_position": null,
            "order": null,
            "overflow": null,
            "overflow_x": null,
            "overflow_y": null,
            "padding": null,
            "right": null,
            "top": null,
            "visibility": null,
            "width": null
          }
        },
        "e73b4f0409a94c5fa6fb71a1cd72ac18": {
          "model_module": "@jupyter-widgets/controls",
          "model_name": "DescriptionStyleModel",
          "model_module_version": "1.5.0",
          "state": {
            "_model_module": "@jupyter-widgets/controls",
            "_model_module_version": "1.5.0",
            "_model_name": "DescriptionStyleModel",
            "_view_count": null,
            "_view_module": "@jupyter-widgets/base",
            "_view_module_version": "1.2.0",
            "_view_name": "StyleView",
            "description_width": ""
          }
        }
      }
    }
  },
  "nbformat": 4,
  "nbformat_minor": 0
}