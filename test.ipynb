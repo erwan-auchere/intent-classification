{
 "cells": [
  {
   "cell_type": "code",
   "execution_count": null,
   "metadata": {
    "tags": []
   },
   "outputs": [],
   "source": [
    "!pip install torch torchtext torchinfo datasets matplotlib"
   ]
  },
  {
   "cell_type": "code",
   "execution_count": 2,
   "metadata": {
    "tags": []
   },
   "outputs": [],
   "source": [
    "import torch, model, importlib\n",
    "importlib.reload(model);"
   ]
  },
  {
   "cell_type": "code",
   "execution_count": 3,
   "metadata": {
    "tags": []
   },
   "outputs": [
    {
     "name": "stdout",
     "output_type": "stream",
     "text": [
      "cuda\n"
     ]
    }
   ],
   "source": [
    "if torch.cuda.is_available():\n",
    "    torch.set_default_tensor_type('torch.cuda.FloatTensor')\n",
    "    device = torch.device('cuda')\n",
    "else:\n",
    "    device = torch.device('cpu')\n",
    "print(device)"
   ]
  },
  {
   "cell_type": "markdown",
   "metadata": {},
   "source": [
    "# Data loading and preparation"
   ]
  },
  {
   "cell_type": "code",
   "execution_count": 4,
   "metadata": {
    "tags": []
   },
   "outputs": [
    {
     "name": "stderr",
     "output_type": "stream",
     "text": [
      "Found cached dataset daily_dialog (/home/onyxia/.cache/huggingface/datasets/daily_dialog/default/1.0.0/1d0a58c7f2a4dab5ed9d01dbde8e55e0058e589ab81fce5c2df929ea810eabcd)\n"
     ]
    },
    {
     "data": {
      "application/vnd.jupyter.widget-view+json": {
       "model_id": "63238f36ff9d47f8a182cbb9fb69d971",
       "version_major": 2,
       "version_minor": 0
      },
      "text/plain": [
       "  0%|          | 0/3 [00:00<?, ?it/s]"
      ]
     },
     "metadata": {},
     "output_type": "display_data"
    },
    {
     "data": {
      "text/plain": [
       "DatasetDict({\n",
       "    train: Dataset({\n",
       "        features: ['dialog', 'act', 'emotion'],\n",
       "        num_rows: 11118\n",
       "    })\n",
       "    validation: Dataset({\n",
       "        features: ['dialog', 'act', 'emotion'],\n",
       "        num_rows: 1000\n",
       "    })\n",
       "    test: Dataset({\n",
       "        features: ['dialog', 'act', 'emotion'],\n",
       "        num_rows: 1000\n",
       "    })\n",
       "})"
      ]
     },
     "execution_count": 4,
     "metadata": {},
     "output_type": "execute_result"
    }
   ],
   "source": [
    "import datasets\n",
    "\n",
    "dataset = datasets.load_dataset('daily_dialog')\n",
    "dataset"
   ]
  },
  {
   "cell_type": "code",
   "execution_count": 5,
   "metadata": {
    "tags": []
   },
   "outputs": [],
   "source": [
    "from torchtext.vocab import GloVe, vocab\n",
    "\n",
    "pretrained_vectors = GloVe(name=\"6B\", dim=50)\n",
    "pretrained_vocab = vocab(pretrained_vectors.stoi)\n",
    "pretrained_vocab.insert_token(\"<unk>\", 0)\n",
    "pretrained_vocab.insert_token(\"<pad>\", 1)\n",
    "pretrained_vocab.set_default_index(0)\n",
    "pretrained_embeddings = pretrained_vectors.vectors.to(device)\n",
    "pretrained_embeddings = torch.cat((torch.zeros(1,pretrained_embeddings.shape[1]),pretrained_embeddings))\n",
    "vocab_stoi = pretrained_vocab.get_stoi()"
   ]
  },
  {
   "cell_type": "code",
   "execution_count": 6,
   "metadata": {
    "tags": []
   },
   "outputs": [
    {
     "data": {
      "text/plain": [
       "290"
      ]
     },
     "execution_count": 6,
     "metadata": {},
     "output_type": "execute_result"
    }
   ],
   "source": [
    "import numpy as np\n",
    "from torchtext.data import get_tokenizer\n",
    "tokenizer = get_tokenizer(\"basic_english\")\n",
    "\n",
    "max_len = max([\n",
    "    len(tokenizer(sentence))\n",
    "     for dialog in dataset['train']['dialog'] + dataset['validation']['dialog'] + dataset['test']['dialog']\n",
    "     for sentence in dialog \n",
    "])\n",
    "max_len"
   ]
  },
  {
   "cell_type": "code",
   "execution_count": 7,
   "metadata": {
    "tags": []
   },
   "outputs": [],
   "source": [
    "@np.vectorize\n",
    "def numericalize(word, vocab_stoi):\n",
    "    return vocab_stoi[word] if word in vocab_stoi else 0\n",
    "\n",
    "def preprocess(sentence, max_len):\n",
    "    # Tokenizer, word to indices, padding\n",
    "    sentence = tokenizer(sentence.lower())\n",
    "    sentence = sentence + [\"<pad>\" for _ in range(max_len-len(sentence))]\n",
    "    sentence = numericalize(sentence, vocab_stoi)\n",
    "    return sentence\n",
    "    "
   ]
  },
  {
   "cell_type": "code",
   "execution_count": 8,
   "metadata": {
    "tags": []
   },
   "outputs": [],
   "source": [
    "# For each dialog, we take the first 5 utterances\n",
    "new_dataset = dict()\n",
    "for split in ['train', 'validation', 'test']:\n",
    "    new_dataset[split] = [\n",
    "        (\n",
    "            np.array([preprocess(sentence, max_len=max_len) for sentence in dialog[:5]]),\n",
    "            np.array([a for a in act[:5]])\n",
    "        )\n",
    "        for dialog, act in zip(dataset[split]['dialog'], dataset[split]['act'])\n",
    "        if len(dialog) >= 5\n",
    "    ]"
   ]
  },
  {
   "cell_type": "code",
   "execution_count": 9,
   "metadata": {
    "tags": []
   },
   "outputs": [],
   "source": [
    "class DialogActDataset(torch.utils.data.Dataset):\n",
    "    def __init__(self, data):\n",
    "        self.data = data\n",
    "\n",
    "    def __len__(self):\n",
    "        return len(self.data)\n",
    "    \n",
    "    def __getitem__(self, idx):\n",
    "        return dict(\n",
    "            dialog = torch.tensor(self.data[idx][0]),\n",
    "            act = torch.tensor(self.data[idx][1])\n",
    "        )"
   ]
  },
  {
   "cell_type": "code",
   "execution_count": 10,
   "metadata": {
    "tags": []
   },
   "outputs": [],
   "source": [
    "kwargs = dict(\n",
    "    batch_size = 16,\n",
    "    shuffle = True,\n",
    "    drop_last = True,\n",
    "    generator = torch.Generator(device=device)\n",
    ")\n",
    "\n",
    "train_loader = torch.utils.data.DataLoader(\n",
    "    DialogActDataset(new_dataset['train']), **kwargs\n",
    ")\n",
    "val_loader = torch.utils.data.DataLoader(\n",
    "    DialogActDataset(new_dataset['validation']), **kwargs\n",
    ")\n",
    "test_loader = torch.utils.data.DataLoader(\n",
    "    DialogActDataset(new_dataset['test']), **kwargs\n",
    ")"
   ]
  },
  {
   "cell_type": "markdown",
   "metadata": {},
   "source": [
    "# Model with a generic loss: cross-entropy\n",
    "## Training"
   ]
  },
  {
   "cell_type": "code",
   "execution_count": 11,
   "metadata": {
    "tags": []
   },
   "outputs": [
    {
     "data": {
      "text/plain": [
       "=================================================================\n",
       "Layer (type:depth-idx)                   Param #\n",
       "=================================================================\n",
       "Seq2SeqModel                             --\n",
       "├─Embedding: 1-1                         (20,000,050)\n",
       "├─HierarchicalEncoder: 1-2               --\n",
       "│    └─GRU: 2-1                          138,240\n",
       "│    └─GRU: 2-2                          296,448\n",
       "├─SoftGuidedAttentionDecoder: 1-3        --\n",
       "│    └─Linear: 2-3                       513\n",
       "│    └─GRUCell: 2-4                      394,752\n",
       "├─Linear: 1-4                            1,285\n",
       "=================================================================\n",
       "Total params: 20,831,288\n",
       "Trainable params: 831,238\n",
       "Non-trainable params: 20,000,050\n",
       "================================================================="
      ]
     },
     "execution_count": 11,
     "metadata": {},
     "output_type": "execute_result"
    }
   ],
   "source": [
    "import torchinfo\n",
    "\n",
    "network = model.Seq2SeqModel(\n",
    "    nb_classes = 5,\n",
    "    sequence_length = 5,\n",
    "    hidden_size = 128,\n",
    "    pretrained_embeddings = pretrained_embeddings,\n",
    "    persona_level = False\n",
    ")\n",
    "torchinfo.summary(network)"
   ]
  },
  {
   "cell_type": "code",
   "execution_count": null,
   "metadata": {
    "tags": []
   },
   "outputs": [],
   "source": [
    "def train(model, train_loader, val_loader, optimizer, loss_fn, device, n_epochs=10):\n",
    "    train_losses, val_losses = [], []\n",
    "    \n",
    "    model.to(device)\n",
    "    for epoch in range(n_epochs):\n",
    "        # Training\n",
    "        model.train()\n",
    "        train_loss = 0\n",
    "\n",
    "        for batch_idx, batch in enumerate(train_loader):\n",
    "\n",
    "            optimizer.zero_grad()\n",
    "\n",
    "            x = batch['dialog'].to(device)\n",
    "            target = batch['act'].to(device)\n",
    "\n",
    "            out = model(x).transpose(1,2)\n",
    "\n",
    "            loss = loss_fn(out, target.long())\n",
    "            train_loss += loss.item()\n",
    "\n",
    "            loss.backward()\n",
    "            optimizer.step()\n",
    "\n",
    "            \n",
    "        print(f'Epoch {epoch+1}/{n_epochs}, training loss: {train_loss/len(train_loader):.4g}')\n",
    "        train_losses.append(train_loss/len(train_loader))\n",
    "\n",
    "                \n",
    "        # Testing\n",
    "        model.eval()\n",
    "        with torch.no_grad():\n",
    "            loss = 0\n",
    "            for batch_idx, batch in enumerate(val_loader):\n",
    "                x = batch['dialog'].to(device)\n",
    "                target = batch['act'].to(device)\n",
    "                out = model(x).transpose(1,2)\n",
    "                loss += loss_fn(out, target.long()).item()\n",
    "                \n",
    "        print(f'Epoch {epoch+1}/{n_epochs}, val loss: {loss/len(val_loader):.4g}')\n",
    "        val_losses.append(loss/len(val_loader))\n",
    "    \n",
    "    return train_losses, val_losses\n",
    "\n",
    "train_losses, test_losses = train(\n",
    "    network,\n",
    "    train_loader,\n",
    "    test_loader,\n",
    "    optimizer = torch.optim.SGD(network.parameters(), lr=3e-3),\n",
    "    loss_fn = torch.nn.CrossEntropyLoss(),\n",
    "    device = 'cuda' if torch.cuda.is_available() else 'cpu',\n",
    "    n_epochs = 300\n",
    ")"
   ]
  },
  {
   "cell_type": "code",
   "execution_count": 15,
   "metadata": {
    "tags": []
   },
   "outputs": [
    {
     "data": {
      "image/png": "[encoded data removed]",
      "text/plain": [
       "<Figure size 800x800 with 1 Axes>"
      ]
     },
     "metadata": {},
     "output_type": "display_data"
    }
   ],
   "source": [
    "import matplotlib.pyplot as plt\n",
    "\n",
    "fig, ax = plt.subplots(figsize=(8,8))\n",
    "ax.plot(train_losses, color='red', label='Train loss')\n",
    "ax.plot(test_losses, color='blue', label='Test loss')\n",
    "ax.legend()\n",
    "ax.set_xlabel('Epochs')\n",
    "ax.set_ylabel('Cross-entropy')\n",
    "fig.show();"
   ]
  },
  {
   "cell_type": "code",
   "execution_count": 18,
   "metadata": {
    "tags": []
   },
   "outputs": [],
   "source": [
    "torch.save(network, 'model_crossentropy.pkl')"
   ]
  },
  {
   "cell_type": "markdown",
   "metadata": {},
   "source": [
    "## Evaluation with accuracy"
   ]
  },
  {
   "cell_type": "code",
   "execution_count": 16,
   "metadata": {
    "tags": []
   },
   "outputs": [],
   "source": [
    "def evaluate(model, test_loader, device):\n",
    "    model.eval()\n",
    "    with torch.no_grad():\n",
    "        correct = 0\n",
    "        for batch_idx, batch in enumerate(test_loader):\n",
    "            x = batch['dialog'].to(device)\n",
    "            target = batch['act'].to(device)\n",
    "            out = model(x)\n",
    "            out_argmax = torch.argmax(out, dim=-1)\n",
    "            correct += torch.sum( torch.where( out_argmax == target, 1, 0 ) ).item() / 5\n",
    "            \n",
    "    return correct / len(val_loader) / kwargs['batch_size']"
   ]
  },
  {
   "cell_type": "code",
   "execution_count": 19,
   "metadata": {
    "tags": []
   },
   "outputs": [
    {
     "data": {
      "text/plain": [
       "0.43596938775510197"
      ]
     },
     "execution_count": 19,
     "metadata": {},
     "output_type": "execute_result"
    }
   ],
   "source": [
    "network = torch.load('model_crossentropy.pkl')\n",
    "evaluate(network, test_loader, device)"
   ]
  }
 ],
 "metadata": {
  "kernelspec": {
   "display_name": "Python 3 (ipykernel)",
   "language": "python",
   "name": "python3"
  },
  "language_info": {
   "codemirror_mode": {
    "name": "ipython",
    "version": 3
   },
   "file_extension": ".py",
   "mimetype": "text/x-python",
   "name": "python",
   "nbconvert_exporter": "python",
   "pygments_lexer": "ipython3",
   "version": "3.10.8"
  },
  "vscode": {
   "interpreter": {
    "hash": "5895846bd8895370c40c21e36c79c4eb41c3a72753ef20f6391cf79dc6750c48"
   }
  }
 },
 "nbformat": 4,
 "nbformat_minor": 4
}
